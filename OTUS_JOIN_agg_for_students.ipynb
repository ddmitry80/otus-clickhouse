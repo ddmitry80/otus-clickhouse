{
  "nbformat": 4,
  "nbformat_minor": 0,
  "metadata": {
    "colab": {
      "provenance": [],
      "include_colab_link": true
    },
    "kernelspec": {
      "name": "python3",
      "display_name": "Python 3"
    },
    "language_info": {
      "name": "python"
    }
  },
  "cells": [
    {
      "cell_type": "markdown",
      "metadata": {
        "id": "view-in-github",
        "colab_type": "text"
      },
      "source": [
        "<a href=\"https://colab.research.google.com/github/ddmitry80/otus-clickhouse/blob/main/OTUS_JOIN_agg_for_students.ipynb\" target=\"_parent\"><img src=\"https://colab.research.google.com/assets/colab-badge.svg\" alt=\"Open In Colab\"/></a>"
      ]
    },
    {
      "cell_type": "code",
      "execution_count": null,
      "metadata": {
        "colab": {
          "base_uri": "https://localhost:8080/"
        },
        "id": "zB1WxMXUoq-s",
        "outputId": "e2b1a881-7159-4320-b0c6-7b0351096c4a"
      },
      "outputs": [
        {
          "output_type": "stream",
          "name": "stdout",
          "text": [
            "Hit:1 http://archive.ubuntu.com/ubuntu jammy InRelease\n",
            "Get:2 http://archive.ubuntu.com/ubuntu jammy-updates InRelease [128 kB]\n",
            "Get:3 http://archive.ubuntu.com/ubuntu jammy-backports InRelease [127 kB]\n",
            "Get:4 http://security.ubuntu.com/ubuntu jammy-security InRelease [129 kB]\n",
            "Get:5 https://cloud.r-project.org/bin/linux/ubuntu jammy-cran40/ InRelease [3,626 B]\n",
            "Hit:6 https://developer.download.nvidia.com/compute/cuda/repos/ubuntu2204/x86_64  InRelease\n",
            "Get:7 https://r2u.stat.illinois.edu/ubuntu jammy InRelease [6,555 B]\n",
            "Get:8 https://ppa.launchpadcontent.net/deadsnakes/ppa/ubuntu jammy InRelease [18.1 kB]\n",
            "Hit:9 https://ppa.launchpadcontent.net/graphics-drivers/ppa/ubuntu jammy InRelease\n",
            "Hit:10 https://ppa.launchpadcontent.net/ubuntugis/ppa/ubuntu jammy InRelease\n",
            "Get:11 http://archive.ubuntu.com/ubuntu jammy-updates/universe amd64 Packages [1,523 kB]\n",
            "Get:12 http://archive.ubuntu.com/ubuntu jammy-updates/main amd64 Packages [2,907 kB]\n",
            "Get:13 https://r2u.stat.illinois.edu/ubuntu jammy/main all Packages [8,657 kB]\n",
            "Get:14 https://r2u.stat.illinois.edu/ubuntu jammy/main amd64 Packages [2,650 kB]\n",
            "Get:15 http://security.ubuntu.com/ubuntu jammy-security/universe amd64 Packages [1,230 kB]\n",
            "Get:16 http://security.ubuntu.com/ubuntu jammy-security/main amd64 Packages [2,606 kB]\n",
            "Get:17 https://ppa.launchpadcontent.net/deadsnakes/ppa/ubuntu jammy/main amd64 Packages [33.6 kB]\n",
            "Fetched 20.0 MB in 7s (3,070 kB/s)\n",
            "Reading package lists... Done\n",
            "W: Skipping acquire of configured file 'main/source/Sources' as repository 'https://r2u.stat.illinois.edu/ubuntu jammy InRelease' does not seem to provide it (sources.list entry misspelt?)\n",
            "Reading package lists... Done\n",
            "Building dependency tree... Done\n",
            "Reading state information... Done\n",
            "ca-certificates is already the newest version (20240203~22.04.1).\n",
            "curl is already the newest version (7.81.0-1ubuntu1.20).\n",
            "gnupg2 is already the newest version (2.2.27-3ubuntu2.1).\n",
            "The following NEW packages will be installed:\n",
            "  apt-transport-https\n",
            "0 upgraded, 1 newly installed, 0 to remove and 33 not upgraded.\n",
            "Need to get 1,510 B of archives.\n",
            "After this operation, 170 kB of additional disk space will be used.\n",
            "Get:1 http://archive.ubuntu.com/ubuntu jammy-updates/universe amd64 apt-transport-https all 2.4.13 [1,510 B]\n",
            "Fetched 1,510 B in 0s (12.0 kB/s)\n",
            "debconf: unable to initialize frontend: Dialog\n",
            "debconf: (No usable dialog-like program is installed, so the dialog based frontend cannot be used. at /usr/share/perl5/Debconf/FrontEnd/Dialog.pm line 78, <> line 1.)\n",
            "debconf: falling back to frontend: Readline\n",
            "debconf: unable to initialize frontend: Readline\n",
            "debconf: (This frontend requires a controlling tty.)\n",
            "debconf: falling back to frontend: Teletype\n",
            "dpkg-preconfigure: unable to re-open stdin: \n",
            "Selecting previously unselected package apt-transport-https.\n",
            "(Reading database ... 124926 files and directories currently installed.)\n",
            "Preparing to unpack .../apt-transport-https_2.4.13_all.deb ...\n",
            "Unpacking apt-transport-https (2.4.13) ...\n",
            "Setting up apt-transport-https (2.4.13) ...\n",
            "Hit:1 http://security.ubuntu.com/ubuntu jammy-security InRelease\n",
            "Hit:2 http://archive.ubuntu.com/ubuntu jammy InRelease\n",
            "Hit:3 http://archive.ubuntu.com/ubuntu jammy-updates InRelease\n",
            "Hit:4 http://archive.ubuntu.com/ubuntu jammy-backports InRelease\n",
            "Get:5 https://builds.altinity.cloud/apt-repo stable InRelease [9,197 B]\n",
            "Hit:6 https://developer.download.nvidia.com/compute/cuda/repos/ubuntu2204/x86_64  InRelease\n",
            "Hit:7 https://cloud.r-project.org/bin/linux/ubuntu jammy-cran40/ InRelease\n",
            "Hit:8 https://r2u.stat.illinois.edu/ubuntu jammy InRelease\n",
            "Hit:9 https://ppa.launchpadcontent.net/deadsnakes/ppa/ubuntu jammy InRelease\n",
            "Hit:10 https://ppa.launchpadcontent.net/graphics-drivers/ppa/ubuntu jammy InRelease\n",
            "Hit:11 https://ppa.launchpadcontent.net/ubuntugis/ppa/ubuntu jammy InRelease\n",
            "Get:12 https://builds.altinity.cloud/apt-repo stable/main amd64 Packages [21.9 kB]\n",
            "Get:13 https://builds.altinity.cloud/apt-repo stable/main all Packages [6,453 B]\n",
            "Fetched 37.6 kB in 2s (22.6 kB/s)\n",
            "Reading package lists... Done\n",
            "W: Skipping acquire of configured file 'main/source/Sources' as repository 'https://r2u.stat.illinois.edu/ubuntu jammy InRelease' does not seem to provide it (sources.list entry misspelt?)\n",
            "Reading package lists... Done\n",
            "Building dependency tree... Done\n",
            "Reading state information... Done\n",
            "Suggested packages:\n",
            "  clickhouse-common-static-dbg\n",
            "The following NEW packages will be installed:\n",
            "  clickhouse-client clickhouse-common-static clickhouse-server\n",
            "0 upgraded, 3 newly installed, 0 to remove and 33 not upgraded.\n",
            "Need to get 269 MB of archives.\n",
            "After this operation, 845 MB of additional disk space will be used.\n",
            "Get:1 https://builds.altinity.cloud/apt-repo stable/main amd64 clickhouse-common-static amd64 24.3.5.47.altinitystable [268 MB]\n",
            "Get:2 https://builds.altinity.cloud/apt-repo stable/main amd64 clickhouse-client amd64 24.3.5.47.altinitystable [42.1 kB]\n",
            "Get:3 https://builds.altinity.cloud/apt-repo stable/main amd64 clickhouse-server amd64 24.3.5.47.altinitystable [68.9 kB]\n",
            "Fetched 269 MB in 5s (58.1 MB/s)\n",
            "debconf: unable to initialize frontend: Dialog\n",
            "debconf: (No usable dialog-like program is installed, so the dialog based frontend cannot be used. at /usr/share/perl5/Debconf/FrontEnd/Dialog.pm line 78, <> line 3.)\n",
            "debconf: falling back to frontend: Readline\n",
            "debconf: unable to initialize frontend: Readline\n",
            "debconf: (This frontend requires a controlling tty.)\n",
            "debconf: falling back to frontend: Teletype\n",
            "dpkg-preconfigure: unable to re-open stdin: \n",
            "Selecting previously unselected package clickhouse-common-static.\n",
            "(Reading database ... 124930 files and directories currently installed.)\n",
            "Preparing to unpack .../clickhouse-common-static_24.3.5.47.altinitystable_amd64.deb ...\n",
            "Unpacking clickhouse-common-static (24.3.5.47.altinitystable) ...\n",
            "Selecting previously unselected package clickhouse-client.\n",
            "Preparing to unpack .../clickhouse-client_24.3.5.47.altinitystable_amd64.deb ...\n",
            "Unpacking clickhouse-client (24.3.5.47.altinitystable) ...\n",
            "Selecting previously unselected package clickhouse-server.\n",
            "Preparing to unpack .../clickhouse-server_24.3.5.47.altinitystable_amd64.deb ...\n",
            "Unpacking clickhouse-server (24.3.5.47.altinitystable) ...\n",
            "Setting up clickhouse-common-static (24.3.5.47.altinitystable) ...\n",
            "Setting up clickhouse-server (24.3.5.47.altinitystable) ...\n",
            "debconf: unable to initialize frontend: Dialog\n",
            "debconf: (No usable dialog-like program is installed, so the dialog based frontend cannot be used. at /usr/share/perl5/Debconf/FrontEnd/Dialog.pm line 78.)\n",
            "debconf: falling back to frontend: Readline\n",
            "ClickHouse binary is already located at /usr/bin/clickhouse\n",
            "Symlink /usr/bin/clickhouse-server already exists but it points to /clickhouse. Will replace the old symlink to /usr/bin/clickhouse.\n",
            "Creating symlink /usr/bin/clickhouse-server to /usr/bin/clickhouse.\n",
            "Symlink /usr/bin/clickhouse-client already exists but it points to /clickhouse. Will replace the old symlink to /usr/bin/clickhouse.\n",
            "Creating symlink /usr/bin/clickhouse-client to /usr/bin/clickhouse.\n",
            "Symlink /usr/bin/clickhouse-local already exists but it points to /clickhouse. Will replace the old symlink to /usr/bin/clickhouse.\n",
            "Creating symlink /usr/bin/clickhouse-local to /usr/bin/clickhouse.\n",
            "Symlink /usr/bin/clickhouse-benchmark already exists but it points to /clickhouse. Will replace the old symlink to /usr/bin/clickhouse.\n",
            "Creating symlink /usr/bin/clickhouse-benchmark to /usr/bin/clickhouse.\n",
            "Symlink /usr/bin/clickhouse-obfuscator already exists but it points to /clickhouse. Will replace the old symlink to /usr/bin/clickhouse.\n",
            "Creating symlink /usr/bin/clickhouse-obfuscator to /usr/bin/clickhouse.\n",
            "Creating symlink /usr/bin/clickhouse-git-import to /usr/bin/clickhouse.\n",
            "Symlink /usr/bin/clickhouse-compressor already exists but it points to /clickhouse. Will replace the old symlink to /usr/bin/clickhouse.\n",
            "Creating symlink /usr/bin/clickhouse-compressor to /usr/bin/clickhouse.\n",
            "Symlink /usr/bin/clickhouse-format already exists but it points to /clickhouse. Will replace the old symlink to /usr/bin/clickhouse.\n",
            "Creating symlink /usr/bin/clickhouse-format to /usr/bin/clickhouse.\n",
            "Symlink /usr/bin/clickhouse-extract-from-config already exists but it points to /clickhouse. Will replace the old symlink to /usr/bin/clickhouse.\n",
            "Creating symlink /usr/bin/clickhouse-extract-from-config to /usr/bin/clickhouse.\n",
            "Symlink /usr/bin/clickhouse-keeper already exists but it points to /clickhouse. Will replace the old symlink to /usr/bin/clickhouse.\n",
            "Creating symlink /usr/bin/clickhouse-keeper to /usr/bin/clickhouse.\n",
            "Symlink /usr/bin/clickhouse-keeper-converter already exists but it points to /clickhouse. Will replace the old symlink to /usr/bin/clickhouse.\n",
            "Creating symlink /usr/bin/clickhouse-keeper-converter to /usr/bin/clickhouse.\n",
            "Creating symlink /usr/bin/clickhouse-disks to /usr/bin/clickhouse.\n",
            "Symlink /usr/bin/ch already exists. Will keep it.\n",
            "Symlink /usr/bin/chl already exists. Will keep it.\n",
            "Symlink /usr/bin/chc already exists. Will keep it.\n",
            "Creating clickhouse group if it does not exist.\n",
            " groupadd -r clickhouse\n",
            "Creating clickhouse user if it does not exist.\n",
            " useradd -r --shell /bin/false --home-dir /nonexistent -g clickhouse clickhouse\n",
            "Will set ulimits for clickhouse user in /etc/security/limits.d/clickhouse.conf.\n",
            "Creating config directory /etc/clickhouse-server/config.d that is used for tweaks of main server configuration.\n",
            "Creating config directory /etc/clickhouse-server/users.d that is used for tweaks of users configuration.\n",
            "Config file /etc/clickhouse-server/config.xml already exists, will keep it and extract path info from it.\n",
            "/etc/clickhouse-server/config.xml has /var/lib/clickhouse/ as data path.\n",
            "/etc/clickhouse-server/config.xml has /var/log/clickhouse-server/ as log path.\n",
            "Users config file /etc/clickhouse-server/users.xml already exists, will keep it and extract users info from it.\n",
            "Creating log directory /var/log/clickhouse-server/.\n",
            "Creating data directory /var/lib/clickhouse/.\n",
            "Creating pid directory /var/run/clickhouse-server.\n",
            " chown -R clickhouse:clickhouse '/var/log/clickhouse-server/'\n",
            " chown -R clickhouse:clickhouse '/var/run/clickhouse-server'\n",
            " chown  clickhouse:clickhouse '/var/lib/clickhouse/'\n",
            " groupadd -r clickhouse-bridge\n",
            " useradd -r --shell /bin/false --home-dir /nonexistent -g clickhouse-bridge clickhouse-bridge\n",
            " chown -R clickhouse-bridge:clickhouse-bridge '/usr/bin/clickhouse-odbc-bridge'\n",
            " chown -R clickhouse-bridge:clickhouse-bridge '/usr/bin/clickhouse-library-bridge'\n",
            "Enter password for the default user: \n",
            "\u001b[1mPassword for the default user is saved in file /etc/clickhouse-server/users.d/default-password.xml.\u001b[0m\n",
            "Setting capabilities for clickhouse binary. This is optional.\n",
            "Cannot set 'net_admin' or 'ipc_lock' or 'sys_nice' or 'net_bind_service' capability for clickhouse binary. This is optional. Taskstats accounting will be disabled. To enable taskstats accounting you may add the required capability later manually.\n",
            " chown -R clickhouse:clickhouse '/etc/clickhouse-server'\n",
            "\n",
            "ClickHouse has been successfully installed.\n",
            "\n",
            "Start clickhouse-server with:\n",
            " sudo clickhouse start\n",
            "\n",
            "Start clickhouse-client with:\n",
            " clickhouse-client --password\n",
            "\n",
            "Setting up clickhouse-client (24.3.5.47.altinitystable) ...\n",
            "Reading package lists... Done\n",
            "Building dependency tree... Done\n",
            "Reading state information... Done\n",
            "The following additional packages will be installed:\n",
            "  clickhouse-common-static\n",
            "Suggested packages:\n",
            "  clickhouse-common-static-dbg\n",
            "The following packages will be upgraded:\n",
            "  clickhouse-client clickhouse-common-static clickhouse-server\n",
            "3 upgraded, 0 newly installed, 0 to remove and 33 not upgraded.\n",
            "Need to get 146 MB of archives.\n",
            "After this operation, 333 MB disk space will be freed.\n",
            "Get:1 https://builds.altinity.cloud/apt-repo stable/main amd64 clickhouse-server amd64 24.8.11.51285.altinitystable [108 kB]\n",
            "Get:2 https://builds.altinity.cloud/apt-repo stable/main amd64 clickhouse-client amd64 24.8.11.51285.altinitystable [80.0 kB]\n",
            "Get:3 https://builds.altinity.cloud/apt-repo stable/main amd64 clickhouse-common-static amd64 24.8.11.51285.altinitystable [146 MB]\n",
            "Fetched 146 MB in 2s (67.3 MB/s)\n",
            "debconf: unable to initialize frontend: Dialog\n",
            "debconf: (No usable dialog-like program is installed, so the dialog based frontend cannot be used. at /usr/share/perl5/Debconf/FrontEnd/Dialog.pm line 78, <> line 3.)\n",
            "debconf: falling back to frontend: Readline\n",
            "debconf: unable to initialize frontend: Readline\n",
            "debconf: (This frontend requires a controlling tty.)\n",
            "debconf: falling back to frontend: Teletype\n",
            "dpkg-preconfigure: unable to re-open stdin: \n",
            "(Reading database ... 124992 files and directories currently installed.)\n",
            "Preparing to unpack .../clickhouse-server_24.8.11.51285.altinitystable_amd64.deb ...\n",
            "Unpacking clickhouse-server (24.8.11.51285.altinitystable) over (24.3.5.47.altinitystable) ...\n",
            "Preparing to unpack .../clickhouse-client_24.8.11.51285.altinitystable_amd64.deb ...\n",
            "Unpacking clickhouse-client (24.8.11.51285.altinitystable) over (24.3.5.47.altinitystable) ...\n",
            "Preparing to unpack .../clickhouse-common-static_24.8.11.51285.altinitystable_amd64.deb ...\n",
            "Unpacking clickhouse-common-static (24.8.11.51285.altinitystable) over (24.3.5.47.altinitystable) ...\n",
            "Setting up clickhouse-common-static (24.8.11.51285.altinitystable) ...\n",
            "Setting up clickhouse-server (24.8.11.51285.altinitystable) ...\n",
            "Installing new version of config file /etc/clickhouse-keeper/keeper_config.xml ...\n",
            "Installing new version of config file /etc/clickhouse-server/config.xml ...\n",
            "debconf: unable to initialize frontend: Dialog\n",
            "debconf: (No usable dialog-like program is installed, so the dialog based frontend cannot be used. at /usr/share/perl5/Debconf/FrontEnd/Dialog.pm line 78.)\n",
            "debconf: falling back to frontend: Readline\n",
            "ClickHouse binary is already located at /usr/bin/clickhouse\n",
            "Symlink /usr/bin/clickhouse-server already exists but it points to /clickhouse. Will replace the old symlink to /usr/bin/clickhouse.\n",
            "Creating symlink /usr/bin/clickhouse-server to /usr/bin/clickhouse.\n",
            "Symlink /usr/bin/clickhouse-client already exists but it points to /clickhouse. Will replace the old symlink to /usr/bin/clickhouse.\n",
            "Creating symlink /usr/bin/clickhouse-client to /usr/bin/clickhouse.\n",
            "Symlink /usr/bin/clickhouse-local already exists but it points to /clickhouse. Will replace the old symlink to /usr/bin/clickhouse.\n",
            "Creating symlink /usr/bin/clickhouse-local to /usr/bin/clickhouse.\n",
            "Symlink /usr/bin/clickhouse-benchmark already exists but it points to /clickhouse. Will replace the old symlink to /usr/bin/clickhouse.\n",
            "Creating symlink /usr/bin/clickhouse-benchmark to /usr/bin/clickhouse.\n",
            "Symlink /usr/bin/clickhouse-obfuscator already exists but it points to /clickhouse. Will replace the old symlink to /usr/bin/clickhouse.\n",
            "Creating symlink /usr/bin/clickhouse-obfuscator to /usr/bin/clickhouse.\n",
            "Symlink /usr/bin/clickhouse-compressor already exists but it points to /clickhouse. Will replace the old symlink to /usr/bin/clickhouse.\n",
            "Creating symlink /usr/bin/clickhouse-compressor to /usr/bin/clickhouse.\n",
            "Symlink /usr/bin/clickhouse-format already exists but it points to /clickhouse. Will replace the old symlink to /usr/bin/clickhouse.\n",
            "Creating symlink /usr/bin/clickhouse-format to /usr/bin/clickhouse.\n",
            "Symlink /usr/bin/clickhouse-extract-from-config already exists but it points to /clickhouse. Will replace the old symlink to /usr/bin/clickhouse.\n",
            "Creating symlink /usr/bin/clickhouse-extract-from-config to /usr/bin/clickhouse.\n",
            "Symlink /usr/bin/clickhouse-keeper already exists but it points to /clickhouse. Will replace the old symlink to /usr/bin/clickhouse.\n",
            "Creating symlink /usr/bin/clickhouse-keeper to /usr/bin/clickhouse.\n",
            "Symlink /usr/bin/clickhouse-keeper-converter already exists but it points to /clickhouse. Will replace the old symlink to /usr/bin/clickhouse.\n",
            "Creating symlink /usr/bin/clickhouse-keeper-converter to /usr/bin/clickhouse.\n",
            "Symlink /usr/bin/ch already exists. Will keep it.\n",
            "Symlink /usr/bin/chl already exists. Will keep it.\n",
            "Symlink /usr/bin/chc already exists. Will keep it.\n",
            "Creating clickhouse group if it does not exist.\n",
            " groupadd -r clickhouse\n",
            "groupadd: group 'clickhouse' already exists\n",
            "Creating clickhouse user if it does not exist.\n",
            " useradd -r --shell /bin/false --home-dir /nonexistent -g clickhouse clickhouse\n",
            "useradd: user 'clickhouse' already exists\n",
            "Will set ulimits for clickhouse user in /etc/security/limits.d/clickhouse.conf.\n",
            "Config file /etc/clickhouse-server/config.xml already exists, will keep it and extract path info from it.\n",
            "/etc/clickhouse-server/config.xml has /var/lib/clickhouse/ as data path.\n",
            "/etc/clickhouse-server/config.xml has /var/log/clickhouse-server/ as log path.\n",
            "Users config file /etc/clickhouse-server/users.xml already exists, will keep it and extract users info from it.\n",
            "Log directory /var/log/clickhouse-server/ already exists.\n",
            "Data directory /var/lib/clickhouse/ already exists.\n",
            "Pid directory /var/run/clickhouse-server already exists.\n",
            " chown -R clickhouse:clickhouse '/var/log/clickhouse-server/'\n",
            " chown -R clickhouse:clickhouse '/var/run/clickhouse-server'\n",
            " chown  clickhouse:clickhouse '/var/lib/clickhouse/'\n",
            "\u001b[1mPassword for the default user is already specified. To remind or reset, see /etc/clickhouse-server/users.xml and /etc/clickhouse-server/users.d.\u001b[0m\n",
            "Setting capabilities for clickhouse binary. This is optional.\n",
            "Cannot set 'net_admin' or 'ipc_lock' or 'sys_nice' or 'net_bind_service' capability for clickhouse binary. This is optional. Taskstats accounting will be disabled. To enable taskstats accounting you may add the required capability later manually.\n",
            " chown -R clickhouse:clickhouse '/etc/clickhouse-server'\n",
            "\n",
            "ClickHouse has been successfully installed.\n",
            "\n",
            "Start clickhouse-server with:\n",
            " sudo clickhouse start\n",
            "\n",
            "Start clickhouse-client with:\n",
            " clickhouse-client --password\n",
            "\n",
            "Setting up clickhouse-client (24.8.11.51285.altinitystable) ...\n",
            "Installing new version of config file /etc/clickhouse-client/config.xml ...\n",
            " chown -R clickhouse: '/var/run/clickhouse-server/'\n",
            "Will run sudo --preserve-env -u 'clickhouse' /usr/bin/clickhouse-server --config-file /etc/clickhouse-server/config.xml --pid-file /var/run/clickhouse-server/clickhouse-server.pid --daemon\n",
            "Waiting for server to start\n",
            "Waiting for server to start\n",
            "Server started\n",
            "/var/run/clickhouse-server/clickhouse-server.pid file exists and contains pid = 2448.\n",
            "The process with pid = 2448 is running.\n",
            "Ok.\n"
          ]
        }
      ],
      "source": [
        "# Установка ClickHouse\n",
        "# Во время загрузки потребует ввести ПАРОЛЬ!\n",
        "# Если в конце будет Ok! значит установка завершена\n",
        "!sudo apt-get update\n",
        "!sudo apt-get install curl gnupg2 apt-transport-https ca-certificates\n",
        "!sudo sh -c 'mkdir -p /usr/share/keyrings && curl -s https://builds.altinity.cloud/apt-repo/pubkey.gpg | gpg --dearmor > /usr/share/keyrings/altinity-archive-keyring.gpg'\n",
        "!sudo sh -c 'echo \"deb [signed-by=/usr/share/keyrings/altinity-archive-keyring.gpg] https://builds.altinity.cloud/apt-repo stable main\" > /etc/apt/sources.list.d/altinity-dev.list'\n",
        "!sudo apt-get update\n",
        "#!sudo apt-get install clickhouse-common-static=21.8.10.1.altinitystable clickhouse-client=21.8.10.1.altinitystable clickhouse-server=21.8.10.1.altinitystable\n",
        "!sudo apt-get install clickhouse-common-static=24.3.5.47.altinitystable clickhouse-client=24.3.5.47.altinitystable clickhouse-server=24.3.5.47.altinitystable\n",
        "!sudo apt-get install clickhouse-client clickhouse-server\n",
        "\n",
        "!sudo service clickhouse-server start\n",
        "!sudo service clickhouse-server status\n",
        "!curl localhost:8123"
      ]
    },
    {
      "cell_type": "code",
      "source": [
        "# Если хочется поработать с ClickHouse не через Colab\n",
        "# Регаемся на https://ngrok.com/\n",
        "# ngrok — это сервис, который позволяет открыть доступ к внутренним ресурсам машины,\n",
        "# на которой он запущен, из внешней сети, путем создания публичного адреса,\n",
        "# все запросы на который будут переброшены на локальный адрес и заданный порт.\n",
        "\n",
        "!pip install pyngrok\n",
        "\n",
        "# токен можно найти тут https://dashboard.ngrok.com/get-started/setup\n",
        "!ngrok authtoken 2kNHm66ePlrYxnCzGLuUTBMCel6_7NCxMyaffUuW99134h1VY\n",
        "\n",
        "# Эта команда отображет веб морду на другой адрес\n",
        "# Адрес можно посмотреть тут https://dashboard.ngrok.com/cloud-edge/endpoints\n",
        "!nohup ngrok http 8123 > /dev/null &\n",
        "\n",
        "# Не забудьте в адресную строку дописать /play, чтобы видеть не просто \"Ок.\", а приложение, в которое можно писать запросы\n",
        "# должно получится что-то вида https://eef0-34-74-98-209.ngrok-free.app/play"
      ],
      "metadata": {
        "id": "KAaekRYfo1e4",
        "colab": {
          "base_uri": "https://localhost:8080/"
        },
        "outputId": "c492f1cc-9a1d-4821-fe85-f7e641f140b3"
      },
      "execution_count": null,
      "outputs": [
        {
          "output_type": "stream",
          "name": "stdout",
          "text": [
            "Collecting pyngrok\n",
            "  Downloading pyngrok-7.2.3-py3-none-any.whl.metadata (8.7 kB)\n",
            "Requirement already satisfied: PyYAML>=5.1 in /usr/local/lib/python3.11/dist-packages (from pyngrok) (6.0.2)\n",
            "Downloading pyngrok-7.2.3-py3-none-any.whl (23 kB)\n",
            "Installing collected packages: pyngrok\n",
            "Successfully installed pyngrok-7.2.3\n",
            "Authtoken saved to configuration file: /root/.config/ngrok/ngrok.yml\n",
            "nohup: redirecting stderr to stdout\n"
          ]
        }
      ]
    },
    {
      "cell_type": "code",
      "source": [
        "# Работать будем через TCP-протокол, который реализован через библиотеку clickhouse-driver\n",
        "!pip install clickhouse-driver"
      ],
      "metadata": {
        "colab": {
          "base_uri": "https://localhost:8080/"
        },
        "id": "GxxVcYXQX5US",
        "outputId": "351d72d0-c0b0-4994-92ce-1c419a25bbe2"
      },
      "execution_count": null,
      "outputs": [
        {
          "output_type": "stream",
          "name": "stdout",
          "text": [
            "Collecting clickhouse-driver\n",
            "  Downloading clickhouse_driver-0.2.9-cp311-cp311-manylinux_2_17_x86_64.manylinux2014_x86_64.whl.metadata (6.1 kB)\n",
            "Requirement already satisfied: pytz in /usr/local/lib/python3.11/dist-packages (from clickhouse-driver) (2024.2)\n",
            "Requirement already satisfied: tzlocal in /usr/local/lib/python3.11/dist-packages (from clickhouse-driver) (5.2)\n",
            "Downloading clickhouse_driver-0.2.9-cp311-cp311-manylinux_2_17_x86_64.manylinux2014_x86_64.whl (1.0 MB)\n",
            "\u001b[?25l   \u001b[90m━━━━━━━━━━━━━━━━━━━━━━━━━━━━━━━━━━━━━━━━\u001b[0m \u001b[32m0.0/1.0 MB\u001b[0m \u001b[31m?\u001b[0m eta \u001b[36m-:--:--\u001b[0m\r\u001b[2K   \u001b[90m━━━━━━━━━━━━━━━━━━━━━━━━━━━━━━━━━━━━━━━━\u001b[0m \u001b[32m1.0/1.0 MB\u001b[0m \u001b[31m32.0 MB/s\u001b[0m eta \u001b[36m0:00:00\u001b[0m\n",
            "\u001b[?25hInstalling collected packages: clickhouse-driver\n",
            "Successfully installed clickhouse-driver-0.2.9\n"
          ]
        }
      ]
    },
    {
      "cell_type": "code",
      "source": [
        "from clickhouse_driver import Client\n",
        "\n",
        "client = Client(host='localhost', user='default', password='12345')"
      ],
      "metadata": {
        "id": "dWEf-1QpX9Op"
      },
      "execution_count": null,
      "outputs": []
    },
    {
      "cell_type": "markdown",
      "source": [
        "# JOINs"
      ],
      "metadata": {
        "id": "u2ASyWkyYM8F"
      }
    },
    {
      "cell_type": "markdown",
      "source": [
        "## Основные типы соединений"
      ],
      "metadata": {
        "id": "z9ocOya3b53f"
      }
    },
    {
      "cell_type": "code",
      "source": [
        "# Создаем и заполняем таблицы\n",
        "\n",
        "client.execute('''\n",
        "CREATE TABLE table1\n",
        "(\n",
        "    id UInt64,\n",
        "    date DateTime,\n",
        "    value UInt64\n",
        ")\n",
        "ENGINE = Log\n",
        "''')\n",
        "\n",
        "client.execute('''\n",
        "INSERT INTO table1 (*) VALUES (0, '2020-01-01 10:06:00', 50),\n",
        "(1, '2020-01-01 12:01:07', 12),\n",
        "''')\n",
        "\n",
        "client.execute('''\n",
        "CREATE TABLE table2\n",
        "(\n",
        "    id UInt64,\n",
        "    date DateTime,\n",
        "    description String\n",
        ")\n",
        "ENGINE = Log\n",
        "''')\n",
        "\n",
        "client.execute('''\n",
        "INSERT INTO table2 (*) VALUES (0, '2020-01-01 10:00:05', 'cancel'),\n",
        "(0, '2020-01-01 10:05:05', 'purchase'),\n",
        "(3, '2020-01-01 12:01:07', 'purchase')\n",
        "''')"
      ],
      "metadata": {
        "colab": {
          "base_uri": "https://localhost:8080/"
        },
        "id": "C_BA56f_YMJN",
        "outputId": "77c0bdbd-9136-4ecf-8d11-52ed53a78ead"
      },
      "execution_count": null,
      "outputs": [
        {
          "output_type": "execute_result",
          "data": {
            "text/plain": [
              "[]"
            ]
          },
          "metadata": {},
          "execution_count": 17
        }
      ]
    },
    {
      "cell_type": "code",
      "source": [
        "client.execute('''SELECT * FROM table1 JOIN table2 ON table1.id = table2.id''')"
      ],
      "metadata": {
        "colab": {
          "base_uri": "https://localhost:8080/"
        },
        "id": "XSR7ZaxAY9Jz",
        "outputId": "0388ccbb-0dba-4145-e4fb-2ead30c5d6f1"
      },
      "execution_count": null,
      "outputs": [
        {
          "output_type": "execute_result",
          "data": {
            "text/plain": [
              "[(0,\n",
              "  datetime.datetime(2020, 1, 1, 10, 6),\n",
              "  50,\n",
              "  0,\n",
              "  datetime.datetime(2020, 1, 1, 10, 0, 5),\n",
              "  'cancel'),\n",
              " (0,\n",
              "  datetime.datetime(2020, 1, 1, 10, 6),\n",
              "  50,\n",
              "  0,\n",
              "  datetime.datetime(2020, 1, 1, 10, 5, 5),\n",
              "  'purchase')]"
            ]
          },
          "metadata": {},
          "execution_count": 18
        }
      ]
    },
    {
      "cell_type": "code",
      "source": [
        "client.execute('''SELECT * FROM table1 left JOIN table2 using(id)''')"
      ],
      "metadata": {
        "colab": {
          "base_uri": "https://localhost:8080/"
        },
        "id": "926opYjLZtUJ",
        "outputId": "929e5e50-4245-445b-e3b2-e9db8262851d"
      },
      "execution_count": null,
      "outputs": [
        {
          "output_type": "execute_result",
          "data": {
            "text/plain": [
              "[(0,\n",
              "  datetime.datetime(2020, 1, 1, 10, 6),\n",
              "  50,\n",
              "  datetime.datetime(2020, 1, 1, 10, 0, 5),\n",
              "  'cancel'),\n",
              " (0,\n",
              "  datetime.datetime(2020, 1, 1, 10, 6),\n",
              "  50,\n",
              "  datetime.datetime(2020, 1, 1, 10, 5, 5),\n",
              "  'purchase'),\n",
              " (1,\n",
              "  datetime.datetime(2020, 1, 1, 12, 1, 7),\n",
              "  12,\n",
              "  datetime.datetime(1970, 1, 1, 0, 0),\n",
              "  '')]"
            ]
          },
          "metadata": {},
          "execution_count": 19
        }
      ]
    },
    {
      "cell_type": "code",
      "source": [
        "# Создаем таблицу, где существуют столбцы с NULL\n",
        "\n",
        "client.execute('''\n",
        "CREATE TABLE table3\n",
        "(\n",
        "    id UInt64 NULL,\n",
        "    date DateTime NULL,\n",
        "    description String NULL\n",
        ")\n",
        "ENGINE = Log()\n",
        "''')\n",
        "\n",
        "client.execute('''\n",
        "INSERT INTO table3 (*) VALUES (0, '2020-01-01 10:00:05', 'cancel'),\n",
        "(0, '2020-01-01 10:05:05', 'purchase'),\n",
        "(3, '2020-01-01 12:01:07', NULL)\n",
        "''')"
      ],
      "metadata": {
        "colab": {
          "base_uri": "https://localhost:8080/"
        },
        "id": "PnST2ce7aERm",
        "outputId": "b283b879-a8e6-4269-df94-906f96489973"
      },
      "execution_count": null,
      "outputs": [
        {
          "output_type": "execute_result",
          "data": {
            "text/plain": [
              "[]"
            ]
          },
          "metadata": {},
          "execution_count": 29
        }
      ]
    },
    {
      "cell_type": "code",
      "source": [
        "client.execute('''SELECT * FROM table1 left JOIN table3 using(id)''')"
      ],
      "metadata": {
        "colab": {
          "base_uri": "https://localhost:8080/"
        },
        "id": "ZJflIV0fbICu",
        "outputId": "962c582b-1b9f-426c-8893-2294a2a2bd20"
      },
      "execution_count": null,
      "outputs": [
        {
          "output_type": "execute_result",
          "data": {
            "text/plain": [
              "[(0,\n",
              "  datetime.datetime(2020, 1, 1, 10, 6),\n",
              "  50,\n",
              "  datetime.datetime(2020, 1, 1, 10, 0, 5),\n",
              "  'cancel'),\n",
              " (0,\n",
              "  datetime.datetime(2020, 1, 1, 10, 6),\n",
              "  50,\n",
              "  datetime.datetime(2020, 1, 1, 10, 5, 5),\n",
              "  'purchase'),\n",
              " (1, datetime.datetime(2020, 1, 1, 12, 1, 7), 12, None, None)]"
            ]
          },
          "metadata": {},
          "execution_count": 30
        }
      ]
    },
    {
      "cell_type": "code",
      "source": [
        "client.execute('''SELECT * FROM table1 full JOIN table2 using(id)''')"
      ],
      "metadata": {
        "colab": {
          "base_uri": "https://localhost:8080/"
        },
        "id": "DYSFIyqBbgzV",
        "outputId": "dbc64b6f-908b-4aa6-da19-91961a7f70e5"
      },
      "execution_count": null,
      "outputs": [
        {
          "output_type": "execute_result",
          "data": {
            "text/plain": [
              "[(0,\n",
              "  datetime.datetime(2020, 1, 1, 10, 6),\n",
              "  50,\n",
              "  datetime.datetime(2020, 1, 1, 10, 0, 5),\n",
              "  'cancel'),\n",
              " (0,\n",
              "  datetime.datetime(2020, 1, 1, 10, 6),\n",
              "  50,\n",
              "  datetime.datetime(2020, 1, 1, 10, 5, 5),\n",
              "  'purchase'),\n",
              " (1,\n",
              "  datetime.datetime(2020, 1, 1, 12, 1, 7),\n",
              "  12,\n",
              "  datetime.datetime(1970, 1, 1, 0, 0),\n",
              "  ''),\n",
              " (3,\n",
              "  datetime.datetime(1970, 1, 1, 0, 0),\n",
              "  0,\n",
              "  datetime.datetime(2020, 1, 1, 12, 1, 7),\n",
              "  'purchase')]"
            ]
          },
          "metadata": {},
          "execution_count": 32
        }
      ]
    },
    {
      "cell_type": "code",
      "source": [
        "client.execute('''SELECT * FROM table1 cross JOIN table3''')"
      ],
      "metadata": {
        "colab": {
          "base_uri": "https://localhost:8080/"
        },
        "id": "Zyjn_kU9bzbt",
        "outputId": "be9469ca-463d-4605-fbcd-1956e12f79a8"
      },
      "execution_count": null,
      "outputs": [
        {
          "output_type": "execute_result",
          "data": {
            "text/plain": [
              "[(0,\n",
              "  datetime.datetime(2020, 1, 1, 10, 6),\n",
              "  50,\n",
              "  0,\n",
              "  datetime.datetime(2020, 1, 1, 10, 0, 5),\n",
              "  'cancel'),\n",
              " (0,\n",
              "  datetime.datetime(2020, 1, 1, 10, 6),\n",
              "  50,\n",
              "  0,\n",
              "  datetime.datetime(2020, 1, 1, 10, 5, 5),\n",
              "  'purchase'),\n",
              " (0,\n",
              "  datetime.datetime(2020, 1, 1, 10, 6),\n",
              "  50,\n",
              "  3,\n",
              "  datetime.datetime(2020, 1, 1, 12, 1, 7),\n",
              "  'purchase'),\n",
              " (1,\n",
              "  datetime.datetime(2020, 1, 1, 12, 1, 7),\n",
              "  12,\n",
              "  0,\n",
              "  datetime.datetime(2020, 1, 1, 10, 0, 5),\n",
              "  'cancel'),\n",
              " (1,\n",
              "  datetime.datetime(2020, 1, 1, 12, 1, 7),\n",
              "  12,\n",
              "  0,\n",
              "  datetime.datetime(2020, 1, 1, 10, 5, 5),\n",
              "  'purchase'),\n",
              " (1,\n",
              "  datetime.datetime(2020, 1, 1, 12, 1, 7),\n",
              "  12,\n",
              "  3,\n",
              "  datetime.datetime(2020, 1, 1, 12, 1, 7),\n",
              "  'purchase')]"
            ]
          },
          "metadata": {},
          "execution_count": 33
        }
      ]
    },
    {
      "cell_type": "markdown",
      "source": [
        "## Дополнительные типы соединений"
      ],
      "metadata": {
        "id": "hkwb9qnqb--K"
      }
    },
    {
      "cell_type": "code",
      "source": [
        "client.execute('''SELECT * FROM table1 LEFT SEMI JOIN table2 using(id) ''')"
      ],
      "metadata": {
        "colab": {
          "base_uri": "https://localhost:8080/"
        },
        "id": "bhzLIhWKcETk",
        "outputId": "3f95013a-37fa-4c08-c13d-e7f456316cb8"
      },
      "execution_count": null,
      "outputs": [
        {
          "output_type": "execute_result",
          "data": {
            "text/plain": [
              "[(0,\n",
              "  datetime.datetime(2020, 1, 1, 10, 6),\n",
              "  50,\n",
              "  datetime.datetime(2020, 1, 1, 10, 0, 5),\n",
              "  'cancel')]"
            ]
          },
          "metadata": {},
          "execution_count": 34
        }
      ]
    },
    {
      "cell_type": "code",
      "source": [
        "client.execute('''SELECT * FROM table1 LEFT anti JOIN table2 using(id) ''')"
      ],
      "metadata": {
        "colab": {
          "base_uri": "https://localhost:8080/"
        },
        "id": "zSiG1EJEcQzC",
        "outputId": "474fdae4-e6a3-43f6-842b-520a5331cc6a"
      },
      "execution_count": null,
      "outputs": [
        {
          "output_type": "execute_result",
          "data": {
            "text/plain": [
              "[(1,\n",
              "  datetime.datetime(2020, 1, 1, 12, 1, 7),\n",
              "  12,\n",
              "  datetime.datetime(1970, 1, 1, 0, 0),\n",
              "  '')]"
            ]
          },
          "metadata": {},
          "execution_count": 35
        }
      ]
    },
    {
      "cell_type": "code",
      "source": [
        "client.execute('''SELECT * FROM table1 LEFT any JOIN table2 using(id) ''')"
      ],
      "metadata": {
        "colab": {
          "base_uri": "https://localhost:8080/"
        },
        "id": "IZoRNrf6cWmt",
        "outputId": "f459570a-721e-411d-d407-70ff94bda545"
      },
      "execution_count": null,
      "outputs": [
        {
          "output_type": "execute_result",
          "data": {
            "text/plain": [
              "[(0,\n",
              "  datetime.datetime(2020, 1, 1, 10, 6),\n",
              "  50,\n",
              "  datetime.datetime(2020, 1, 1, 10, 0, 5),\n",
              "  'cancel'),\n",
              " (1,\n",
              "  datetime.datetime(2020, 1, 1, 12, 1, 7),\n",
              "  12,\n",
              "  datetime.datetime(1970, 1, 1, 0, 0),\n",
              "  '')]"
            ]
          },
          "metadata": {},
          "execution_count": 36
        }
      ]
    },
    {
      "cell_type": "code",
      "source": [
        "client.execute('''SELECT * FROM table1 ASOF JOIN table2 using(id, date)''')"
      ],
      "metadata": {
        "colab": {
          "base_uri": "https://localhost:8080/"
        },
        "id": "-6mjbuBucaFl",
        "outputId": "7c5d6b6f-d4ca-475c-b812-c0cf6d7304e3"
      },
      "execution_count": null,
      "outputs": [
        {
          "output_type": "execute_result",
          "data": {
            "text/plain": [
              "[(0, datetime.datetime(2020, 1, 1, 10, 6), 50, 'purchase')]"
            ]
          },
          "metadata": {},
          "execution_count": 43
        }
      ]
    },
    {
      "cell_type": "code",
      "source": [
        "client.execute('''SELECT * FROM table1 paste JOIN table2''')"
      ],
      "metadata": {
        "colab": {
          "base_uri": "https://localhost:8080/"
        },
        "id": "RB4fVDYedwMF",
        "outputId": "51440a83-4206-40e4-b581-4bb79d2d21ad"
      },
      "execution_count": null,
      "outputs": [
        {
          "output_type": "execute_result",
          "data": {
            "text/plain": [
              "[(0,\n",
              "  datetime.datetime(2020, 1, 1, 10, 6),\n",
              "  50,\n",
              "  0,\n",
              "  datetime.datetime(2020, 1, 1, 10, 0, 5),\n",
              "  'cancel'),\n",
              " (1,\n",
              "  datetime.datetime(2020, 1, 1, 12, 1, 7),\n",
              "  12,\n",
              "  0,\n",
              "  datetime.datetime(2020, 1, 1, 10, 5, 5),\n",
              "  'purchase')]"
            ]
          },
          "metadata": {},
          "execution_count": 44
        }
      ]
    },
    {
      "cell_type": "markdown",
      "source": [
        "# Проблемы JOINs в Clickhouse и их решения"
      ],
      "metadata": {
        "id": "XFhYo8rcyKP5"
      }
    },
    {
      "cell_type": "code",
      "source": [
        "# Создаем таблицы с 2 млн. и 2 млрд. строк\n",
        "\n",
        "client.execute('''CREATE TABLE 2billion (idx Int64) ENGINE = Log''')\n",
        "client.execute('''CREATE TABLE 2million (idx Int64) ENGINE = Log''')\n",
        "\n",
        "client.execute('''INSERT INTO 2billion (idx) select * from numbers(1, 2000000000)''')\n",
        "client.execute('''INSERT INTO 2million (idx) select * from numbers(1, 2000000000, 1000)''')\n"
      ],
      "metadata": {
        "id": "keb5rMxad9EL"
      },
      "execution_count": null,
      "outputs": []
    },
    {
      "cell_type": "code",
      "source": [
        "client.execute('''\n",
        "SET send_logs_level='trace';\n",
        "select count(*)\n",
        "from 2billion\n",
        "left join 2million using(idx)\n",
        "''')"
      ],
      "metadata": {
        "id": "CqIe6Illyovb"
      },
      "execution_count": null,
      "outputs": []
    },
    {
      "cell_type": "code",
      "source": [
        "client.execute('''\n",
        "SET send_logs_level='trace';\n",
        "select count(*)\n",
        "from 2million\n",
        "join 2billion using(idx)\n",
        "''')"
      ],
      "metadata": {
        "id": "5JYa2aehyvXh"
      },
      "execution_count": null,
      "outputs": []
    },
    {
      "cell_type": "code",
      "source": [
        "client.execute('''\n",
        "SET send_logs_level='trace';\n",
        "select count(*)\n",
        "from 2billion\n",
        "right join 2million using(idx)\n",
        "''')"
      ],
      "metadata": {
        "id": "JFxdHhxIy1Yx"
      },
      "execution_count": null,
      "outputs": []
    },
    {
      "cell_type": "code",
      "source": [
        "client.execute('''\n",
        "SET send_logs_level='trace';\n",
        "select count(*)\n",
        "from 2million as 2m\n",
        "join (select *\n",
        "from 2billion\n",
        "where idx IN (select idx\n",
        "from 2million)) as 2m\n",
        "using(idx)\n",
        "''')"
      ],
      "metadata": {
        "id": "so26Q5-Ny9Cd"
      },
      "execution_count": null,
      "outputs": []
    },
    {
      "cell_type": "code",
      "source": [
        "client.execute('''\n",
        "SET send_logs_level='trace';\n",
        "select count(*)\n",
        "from 2million\n",
        "join 2billion using(idx)\n",
        "SETTINGS join_algorithm = 'full_sorting_merge'\n",
        "''')"
      ],
      "metadata": {
        "id": "QmvpzN_MzAgF"
      },
      "execution_count": null,
      "outputs": []
    },
    {
      "cell_type": "markdown",
      "source": [
        "# Агрегатные функции"
      ],
      "metadata": {
        "id": "1wNyjLN4z1xq"
      }
    },
    {
      "cell_type": "code",
      "source": [
        "#-If\n",
        "client.execute('''\n",
        "SELECT countIf(toHour(date)>10) AS after_10 FROM table2;\n",
        "''')"
      ],
      "metadata": {
        "id": "plwzhxzRz5BY"
      },
      "execution_count": null,
      "outputs": []
    },
    {
      "cell_type": "code",
      "source": [
        "#-Distinct\n",
        "client.execute('''\n",
        "SELECT countDistinct(description) AS uniq_events FROM table2;\n",
        "''')"
      ],
      "metadata": {
        "id": "g_679z8l0HoX"
      },
      "execution_count": null,
      "outputs": []
    },
    {
      "cell_type": "code",
      "source": [
        "# -ForEach\n",
        "client.execute('''\n",
        "CREATE TABLE table_arr\n",
        "(\n",
        "    id UInt64,\n",
        "    arr Array(UInt32)\n",
        ")\n",
        "ENGINE = Log\n",
        "''')\n",
        "\n",
        "client.execute('''\n",
        "INSERT INTO table_arr (*) VALUES (1, [1, 2, 3]),\n",
        "(1, [2, 3, 7]),\n",
        "(1, [9, 1, 1])\n",
        "''')\n",
        "\n",
        "client.execute('''\n",
        "SELECT maxForEach(arr) FROM table_arr\n",
        "''')"
      ],
      "metadata": {
        "id": "QEUa4KQh0LnY"
      },
      "execution_count": null,
      "outputs": []
    },
    {
      "cell_type": "code",
      "source": [
        "# - State\n",
        "# - Merge\n",
        "# -MergeState"
      ],
      "metadata": {
        "id": "CzcDXc-Y1EGg"
      },
      "execution_count": null,
      "outputs": []
    },
    {
      "cell_type": "code",
      "source": [
        "# -Resample\n",
        "client.execute('''\n",
        "SELECT groupArrayResample(0, 4, 2)(description, id) FROM table2;\n",
        "''')"
      ],
      "metadata": {
        "id": "VXajsCav002S"
      },
      "execution_count": null,
      "outputs": []
    },
    {
      "cell_type": "code",
      "source": [
        "# NULL\n",
        "client.execute('''SELECT isNull(description) FROM table3''')\n",
        "\n",
        "# NaN\n",
        "client.execute('''SELECT NaN, 0/0, toTypeName(NaN)''')\n",
        "\n",
        "# Inf\n",
        "client.execute('''select Inf, -Inf, 1/, toTypeName(Inf)''')\n"
      ],
      "metadata": {
        "id": "VGjqzbJD1SFo"
      },
      "execution_count": null,
      "outputs": []
    },
    {
      "cell_type": "code",
      "source": [
        "client.execute('''SELECT groupArray(description) FROM table3 ''')\n",
        "\n",
        "# count()=count(*), count() - чисто кликхаусовский вариант написания\n",
        "client.execute('''SELECT count() FROM table 3''')\n",
        "\n",
        "client.execute('''SELECT count(description) FROM table 3 ''')"
      ],
      "metadata": {
        "id": "XOX1IGgF2Lac"
      },
      "execution_count": null,
      "outputs": []
    }
  ]
}